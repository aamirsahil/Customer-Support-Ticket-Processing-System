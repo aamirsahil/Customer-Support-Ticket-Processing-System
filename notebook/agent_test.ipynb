{
 "cells": [
  {
   "cell_type": "code",
   "execution_count": 2,
   "metadata": {},
   "outputs": [
    {
     "name": "stdout",
     "output_type": "stream",
     "text": [
      "Key Points: ['Support', 'admin dashboard', 'John Smith', 'ASAP for payroll', 'error', 'Smith', 'dashboard', 'access the admin', 'fixed ASAP', 'ASAP', 'morning', 'access', 'admin', 'payroll', 'John', 'fixed']\n"
     ]
    }
   ],
   "source": [
    "import yake\n",
    "\n",
    "# Sample text\n",
    "text = \"\"\"\n",
    "Hi Support,\n",
    "Since this morning I can't access the admin dashboard. \n",
    "I keep getting a 403 error. Need this fixed ASAP for payroll.\n",
    "\n",
    "Thanks,\n",
    "John Smith\n",
    "\"\"\"\n",
    "\n",
    "# Initialize YAKE keyword extractor\n",
    "kw_extractor = yake.KeywordExtractor()\n",
    "keywords = kw_extractor.extract_keywords(text)\n",
    "\n",
    "# Extract and print key points\n",
    "key_points = [keyword for keyword, score in keywords]\n",
    "print(\"Key Points:\", key_points)"
   ]
  },
  {
   "cell_type": "code",
   "execution_count": 4,
   "metadata": {},
   "outputs": [
    {
     "name": "stdout",
     "output_type": "stream",
     "text": [
      "System error encountered during operation.\n",
      "Received an unexpected invoice charge this month.\n",
      "Request to add a new feature in the dashboard.\n",
      "Unable to login with provided credentials.\n",
      "Application crashes when clicking the save button.\n",
      "Inquiry about the recent payment process.\n",
      "Suggestion to improve the user interface.\n"
     ]
    }
   ],
   "source": [
    "# Sample list of keywords\n",
    "keywords = [\n",
    "    \"System error encountered during operation.\",\n",
    "    \"Received an unexpected invoice charge this month.\",\n",
    "    \"Request to add a new feature in the dashboard.\",\n",
    "    \"Unable to login with provided credentials.\",\n",
    "    \"Application crashes when clicking the save button.\",\n",
    "    \"Inquiry about the recent payment process.\",\n",
    "    \"Suggestion to improve the user interface.\",\n",
    "    \" denied when attempting to view reports.\"\n",
    "]\n",
    "\n",
    "# Define categories with associated terms\n",
    "categories = {\n",
    "    \"Technical Issues\": [\"error\", \"bug\", \"crash\", \"slow\"],\n",
    "    \"Billing Issues\": [\"invoice\", \"charge\", \"payment\", \"fee\"],\n",
    "    \"Feature Requests\": [\"request\", \"suggest\", \"add\", \"new feature\"],\n",
    "    \"Access Issues\": [\"login\", \"access\", \"password\", \"permission\"]\n",
    "}\n",
    "\n",
    "# Function to filter keywords based on category terms\n",
    "def filter_keywords_by_category(keywords, categories):\n",
    "    filtered_keywords = []\n",
    "    for keyword in keywords:\n",
    "        if any(term.lower() in keyword.lower() for terms in categories.values() for term in terms):\n",
    "            filtered_keywords.append(keyword)\n",
    "    return filtered_keywords\n",
    "\n",
    "# Get filtered keywords\n",
    "filtered_keywords = filter_keywords_by_category(keywords, categories)\n",
    "\n",
    "# Display the filtered keywords\n",
    "for keyword in filtered_keywords:\n",
    "    print(keyword)"
   ]
  },
  {
   "cell_type": "code",
   "execution_count": 17,
   "metadata": {},
   "outputs": [
    {
     "name": "stdout",
     "output_type": "stream",
     "text": [
      "Flesch Reading Ease score: 119.19\n"
     ]
    }
   ],
   "source": [
    "import textstat\n",
    "\n",
    "# Sample text\n",
    "response = \"\"\"\n",
    "I love ya\n",
    "\"\"\"\n",
    "\n",
    "# Calculate the Flesch Reading Ease score\n",
    "score = textstat.flesch_reading_ease(response)\n",
    "\n",
    "print(f\"Flesch Reading Ease score: {score}\")\n"
   ]
  },
  {
   "cell_type": "code",
   "execution_count": 18,
   "metadata": {},
   "outputs": [
    {
     "data": {
      "text/plain": [
       "0.5"
      ]
     },
     "execution_count": 18,
     "metadata": {},
     "output_type": "execute_result"
    }
   ],
   "source": [
    "from textblob import TextBlob\n",
    "TextBlob(response).sentiment.polarity"
   ]
  },
  {
   "cell_type": "code",
   "execution_count": null,
   "metadata": {},
   "outputs": [
    {
     "name": "stdout",
     "output_type": "stream",
     "text": [
      "Customer Name(s) Found: John Smith\n"
     ]
    }
   ],
   "source": [
    "import spacy\n",
    "\n",
    "# Load the spaCy model for English\n",
    "nlp = spacy.load('en_core_web_sm')\n",
    "\n",
    "# Sample unstructured support ticket text\n",
    "ticket_text = \"\"\"\n",
    "Hi Support,\n",
    "\n",
    "Since this morning I can't access the admin dashboard. I keep getting a 403 error. Need this fixed ASAP for payroll.\n",
    "\n",
    "Thanks,\n",
    "John Smith\n",
    "\"\"\"\n",
    "\n",
    "# Process the text with spaCy\n",
    "doc = nlp(ticket_text)\n",
    "\n",
    "# Extract person names using Named Entity Recognition (NER)\n",
    "customer_names = [ent.text for ent in doc.ents if ent.label_ == 'PERSON']\n",
    "\n",
    "if customer_names:\n",
    "    print(f\"Customer Name(s) Found: {', '.join(customer_names)}\")\n",
    "else:\n",
    "    print(\"No customer names found.\")"
   ]
  },
  {
   "cell_type": "code",
   "execution_count": null,
   "metadata": {},
   "outputs": [],
   "source": []
  }
 ],
 "metadata": {
  "kernelspec": {
   "display_name": "env",
   "language": "python",
   "name": "python3"
  },
  "language_info": {
   "codemirror_mode": {
    "name": "ipython",
    "version": 3
   },
   "file_extension": ".py",
   "mimetype": "text/x-python",
   "name": "python",
   "nbconvert_exporter": "python",
   "pygments_lexer": "ipython3",
   "version": "3.10.0"
  }
 },
 "nbformat": 4,
 "nbformat_minor": 2
}
